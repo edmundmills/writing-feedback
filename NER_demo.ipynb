{
 "cells": [
  {
   "cell_type": "markdown",
   "id": "b5274974",
   "metadata": {
    "papermill": {
     "duration": 0.029943,
     "end_time": "2021-12-17T20:24:49.625974",
     "exception": false,
     "start_time": "2021-12-17T20:24:49.596031",
     "status": "completed"
    },
    "tags": []
   },
   "source": [
    "# TensorFlow LongFormer NER Baseline - CV 0.617!\n",
    "\n",
    "This notebook is a TensorFlow starter notebook for Kaggle's \"Feedback Prize - Evaluating Student Writing\" Competition. Currently this notebook uses\n",
    "* backbone LongFormer\n",
    "* NER formulation\n",
    "* one fold\n",
    "\n",
    "With simple changes, we can convert this notebook into Question Answer formulation and we can try different backbones. Furthermore this notebook is one fold. It trains with 90% data and validates on 10% data. We can convert this notebook to K-fold or train with 100% data for boost in LB.\n",
    "\n",
    "The transformer model LongFormer is explained [here][1]. It is similar to Roberta but can accept inputs as wide as 4096 tokens! In this notebook we feed the transformer with 1024 wide tokens. HuggingFace user AllenAI uploaded pretrained weights for us [here][2]\n",
    "\n",
    "[1]: https://huggingface.co/docs/transformers/model_doc/longformer\n",
    "[2]: https://huggingface.co/allenai/longformer-base-4096"
   ]
  },
  {
   "cell_type": "markdown",
   "id": "d5e9da40",
   "metadata": {
    "papermill": {
     "duration": 0.027868,
     "end_time": "2021-12-17T20:24:49.683718",
     "exception": false,
     "start_time": "2021-12-17T20:24:49.655850",
     "status": "completed"
    },
    "tags": []
   },
   "source": [
    "# Configuration\n",
    "This notebook can either train a new model or load a previously trained model (made from previous notebook version). Furthermore, this notebook can either create new NER tokens or load existing tokens (made from previous notebook version). In this notebook version, we will load model and load NER tokens. \n",
    "\n",
    "Also this notebook can load huggingface stuff (like tokenizers) from a Kaggle dataset, or download it from internet. (If it downloads from internet, you can then put it in a Kaggle dataset, so next time you can turn internet off)."
   ]
  },
  {
   "cell_type": "code",
   "execution_count": 1,
   "id": "98ce38da",
   "metadata": {
    "execution": {
     "iopub.execute_input": "2021-12-17T20:24:49.751070Z",
     "iopub.status.busy": "2021-12-17T20:24:49.750250Z",
     "iopub.status.idle": "2021-12-17T20:24:49.754158Z",
     "shell.execute_reply": "2021-12-17T20:24:49.753653Z",
     "shell.execute_reply.started": "2021-12-17T19:44:55.357706Z"
    },
    "papermill": {
     "duration": 0.042565,
     "end_time": "2021-12-17T20:24:49.754275",
     "exception": false,
     "start_time": "2021-12-17T20:24:49.711710",
     "status": "completed"
    },
    "tags": []
   },
   "outputs": [],
   "source": [
    "import os\n",
    "# DECLARE HOW MANY GPUS YOU WISH TO USE. \n",
    "# KAGGLE ONLY HAS 1, BUT OFFLINE, YOU CAN USE MORE\n",
    "os.environ[\"CUDA_VISIBLE_DEVICES\"]=\"0\" #0,1,2,3 for four gpu\n",
    "\n",
    "# VERSION FOR SAVING MODEL WEIGHTS\n",
    "VER=12\n",
    "\n",
    "# IF VARIABLE IS NONE, THEN NOTEBOOK COMPUTES TOKENS\n",
    "# OTHERWISE NOTEBOOK LOADS TOKENS FROM PATH\n",
    "LOAD_TOKENS_FROM = '../input/tf-longformer-v12'\n",
    "\n",
    "# IF VARIABLE IS NONE, THEN NOTEBOOK TRAINS A NEW MODEL\n",
    "# OTHERWISE IT LOADS YOUR PREVIOUSLY TRAINED MODEL\n",
    "LOAD_MODEL_FROM = '../input/tf-longformer-v12'\n",
    "\n",
    "# IF FOLLOWING IS NONE, THEN NOTEBOOK \n",
    "# USES INTERNET AND DOWNLOADS HUGGINGFACE \n",
    "# CONFIG, TOKENIZER, AND MODEL\n",
    "DOWNLOADED_MODEL_PATH = '../input/tf-longformer-v12'\n",
    "\n",
    "if DOWNLOADED_MODEL_PATH is None:\n",
    "    DOWNLOADED_MODEL_PATH = 'model'    \n",
    "MODEL_NAME = 'allenai/longformer-base-4096'"
   ]
  },
  {
   "cell_type": "markdown",
   "id": "9bb19ec5",
   "metadata": {
    "papermill": {
     "duration": 0.028146,
     "end_time": "2021-12-17T20:24:49.810613",
     "exception": false,
     "start_time": "2021-12-17T20:24:49.782467",
     "status": "completed"
    },
    "tags": []
   },
   "source": [
    "# How To Submit TensorFlow Without Internet\n",
    "Many people ask me, how do I submit TensorFlow models without internet? With HuggingFace Transformer, it's easy. Just download the following 3 things (1) model weights, (2) tokenizer files, (3) config file, and upload them to a Kaggle dataset. Below shows code how to get the files from HuggingFace for AllenAI's model `longformer-base`. But this same code can download any transformer, like for example `roberta-base`."
   ]
  },
  {
   "cell_type": "code",
   "execution_count": 2,
   "id": "a23d3b84",
   "metadata": {
    "execution": {
     "iopub.execute_input": "2021-12-17T20:24:49.869972Z",
     "iopub.status.busy": "2021-12-17T20:24:49.869211Z",
     "iopub.status.idle": "2021-12-17T20:24:49.874148Z",
     "shell.execute_reply": "2021-12-17T20:24:49.873749Z",
     "shell.execute_reply.started": "2021-12-17T19:45:04.389415Z"
    },
    "papermill": {
     "duration": 0.035093,
     "end_time": "2021-12-17T20:24:49.874252",
     "exception": false,
     "start_time": "2021-12-17T20:24:49.839159",
     "status": "completed"
    },
    "tags": []
   },
   "outputs": [],
   "source": [
    "if DOWNLOADED_MODEL_PATH == 'model':\n",
    "    os.mkdir('model')\n",
    "    \n",
    "    tokenizer = AutoTokenizer.from_pretrained(MODEL_NAME)\n",
    "    tokenizer.save_pretrained('model')\n",
    "\n",
    "    config = AutoConfig.from_pretrained(MODEL_NAME) \n",
    "    config.save_pretrained('model')\n",
    "\n",
    "    backbone = TFAutoModel.from_pretrained(MODEL_NAME, config=config)\n",
    "    backbone.save_pretrained('model')"
   ]
  },
  {
   "cell_type": "markdown",
   "id": "f0c56046",
   "metadata": {
    "papermill": {
     "duration": 0.028514,
     "end_time": "2021-12-17T20:24:49.932015",
     "exception": false,
     "start_time": "2021-12-17T20:24:49.903501",
     "status": "completed"
    },
    "tags": []
   },
   "source": [
    "The above saves the files\n",
    "* TOKENIZER FILES - merges.txt, tokenizer_config.json, special_tokens_map.json, tokenizer.json, vocab.json\n",
    "* CONFIG FILE - config.json\n",
    "* MODEL WEIGHT FILE - tf_model.h5\n",
    "\n",
    "Then just upload all these files to a Kaggle dataset, like what I did [here][1]. Then you load them into your notebook like the notebook you are reading. And we can turn internet off!\n",
    "\n",
    "[1]: https://www.kaggle.com/cdeotte/tf-longformer-v12"
   ]
  },
  {
   "cell_type": "markdown",
   "id": "6ea3da22",
   "metadata": {
    "papermill": {
     "duration": 0.028787,
     "end_time": "2021-12-17T20:24:49.989931",
     "exception": false,
     "start_time": "2021-12-17T20:24:49.961144",
     "status": "completed"
    },
    "tags": []
   },
   "source": [
    "# Load Libraries"
   ]
  },
  {
   "cell_type": "code",
   "execution_count": 3,
   "id": "c5379069",
   "metadata": {
    "execution": {
     "iopub.execute_input": "2021-12-17T20:24:50.051089Z",
     "iopub.status.busy": "2021-12-17T20:24:50.050271Z",
     "iopub.status.idle": "2021-12-17T20:25:00.060671Z",
     "shell.execute_reply": "2021-12-17T20:25:00.061267Z",
     "shell.execute_reply.started": "2021-12-17T19:02:27.397619Z"
    },
    "papermill": {
     "duration": 10.043356,
     "end_time": "2021-12-17T20:25:00.061467",
     "exception": false,
     "start_time": "2021-12-17T20:24:50.018111",
     "status": "completed"
    },
    "tags": []
   },
   "outputs": [
    {
     "name": "stdout",
     "output_type": "stream",
     "text": [
      "TF version 2.6.2\n"
     ]
    }
   ],
   "source": [
    "import pandas as pd, numpy as np\n",
    "import matplotlib.pyplot as plt\n",
    "import tensorflow as tf\n",
    "os.environ['TF_CPP_MIN_LOG_LEVEL'] = '3'\n",
    "from transformers import *\n",
    "print('TF version',tf.__version__)"
   ]
  },
  {
   "cell_type": "code",
   "execution_count": 4,
   "id": "fbeb3a05",
   "metadata": {
    "execution": {
     "iopub.execute_input": "2021-12-17T20:25:00.124680Z",
     "iopub.status.busy": "2021-12-17T20:25:00.124032Z",
     "iopub.status.idle": "2021-12-17T20:25:00.134154Z",
     "shell.execute_reply": "2021-12-17T20:25:00.135062Z",
     "shell.execute_reply.started": "2021-12-17T19:02:40.295726Z"
    },
    "papermill": {
     "duration": 0.043976,
     "end_time": "2021-12-17T20:25:00.135236",
     "exception": false,
     "start_time": "2021-12-17T20:25:00.091260",
     "status": "completed"
    },
    "tags": []
   },
   "outputs": [
    {
     "name": "stdout",
     "output_type": "stream",
     "text": [
      "single strategy\n"
     ]
    }
   ],
   "source": [
    "# USE MULTIPLE GPUS\n",
    "if os.environ[\"CUDA_VISIBLE_DEVICES\"].count(',') == 0:\n",
    "    strategy = tf.distribute.get_strategy()\n",
    "    print('single strategy')\n",
    "else:\n",
    "    strategy = tf.distribute.MirroredStrategy()\n",
    "    print('multiple strategy')"
   ]
  },
  {
   "cell_type": "code",
   "execution_count": 5,
   "id": "dc6bf08e",
   "metadata": {
    "execution": {
     "iopub.execute_input": "2021-12-17T20:25:00.197450Z",
     "iopub.status.busy": "2021-12-17T20:25:00.196836Z",
     "iopub.status.idle": "2021-12-17T20:25:00.200891Z",
     "shell.execute_reply": "2021-12-17T20:25:00.200423Z",
     "shell.execute_reply.started": "2021-12-17T19:02:42.199597Z"
    },
    "papermill": {
     "duration": 0.036298,
     "end_time": "2021-12-17T20:25:00.200989",
     "exception": false,
     "start_time": "2021-12-17T20:25:00.164691",
     "status": "completed"
    },
    "tags": []
   },
   "outputs": [
    {
     "name": "stdout",
     "output_type": "stream",
     "text": [
      "Mixed precision enabled\n"
     ]
    }
   ],
   "source": [
    "tf.config.optimizer.set_experimental_options({\"auto_mixed_precision\": True})\n",
    "print('Mixed precision enabled')"
   ]
  },
  {
   "cell_type": "markdown",
   "id": "243fdcf9",
   "metadata": {
    "papermill": {
     "duration": 0.029176,
     "end_time": "2021-12-17T20:25:00.258972",
     "exception": false,
     "start_time": "2021-12-17T20:25:00.229796",
     "status": "completed"
    },
    "tags": []
   },
   "source": [
    "# Load Train"
   ]
  },
  {
   "cell_type": "code",
   "execution_count": 6,
   "id": "4091cd2a",
   "metadata": {
    "execution": {
     "iopub.execute_input": "2021-12-17T20:25:00.321155Z",
     "iopub.status.busy": "2021-12-17T20:25:00.320658Z",
     "iopub.status.idle": "2021-12-17T20:25:02.030534Z",
     "shell.execute_reply": "2021-12-17T20:25:02.030063Z",
     "shell.execute_reply.started": "2021-12-17T19:02:44.855731Z"
    },
    "papermill": {
     "duration": 1.742991,
     "end_time": "2021-12-17T20:25:02.030674",
     "exception": false,
     "start_time": "2021-12-17T20:25:00.287683",
     "status": "completed"
    },
    "tags": []
   },
   "outputs": [
    {
     "name": "stdout",
     "output_type": "stream",
     "text": [
      "(144293, 8)\n"
     ]
    },
    {
     "data": {
      "text/html": [
       "<div>\n",
       "<style scoped>\n",
       "    .dataframe tbody tr th:only-of-type {\n",
       "        vertical-align: middle;\n",
       "    }\n",
       "\n",
       "    .dataframe tbody tr th {\n",
       "        vertical-align: top;\n",
       "    }\n",
       "\n",
       "    .dataframe thead th {\n",
       "        text-align: right;\n",
       "    }\n",
       "</style>\n",
       "<table border=\"1\" class=\"dataframe\">\n",
       "  <thead>\n",
       "    <tr style=\"text-align: right;\">\n",
       "      <th></th>\n",
       "      <th>id</th>\n",
       "      <th>discourse_id</th>\n",
       "      <th>discourse_start</th>\n",
       "      <th>discourse_end</th>\n",
       "      <th>discourse_text</th>\n",
       "      <th>discourse_type</th>\n",
       "      <th>discourse_type_num</th>\n",
       "      <th>predictionstring</th>\n",
       "    </tr>\n",
       "  </thead>\n",
       "  <tbody>\n",
       "    <tr>\n",
       "      <th>0</th>\n",
       "      <td>423A1CA112E2</td>\n",
       "      <td>1.622628e+12</td>\n",
       "      <td>8.0</td>\n",
       "      <td>229.0</td>\n",
       "      <td>Modern humans today are always on their phone....</td>\n",
       "      <td>Lead</td>\n",
       "      <td>Lead 1</td>\n",
       "      <td>1 2 3 4 5 6 7 8 9 10 11 12 13 14 15 16 17 18 1...</td>\n",
       "    </tr>\n",
       "    <tr>\n",
       "      <th>1</th>\n",
       "      <td>423A1CA112E2</td>\n",
       "      <td>1.622628e+12</td>\n",
       "      <td>230.0</td>\n",
       "      <td>312.0</td>\n",
       "      <td>They are some really bad consequences when stu...</td>\n",
       "      <td>Position</td>\n",
       "      <td>Position 1</td>\n",
       "      <td>45 46 47 48 49 50 51 52 53 54 55 56 57 58 59</td>\n",
       "    </tr>\n",
       "    <tr>\n",
       "      <th>2</th>\n",
       "      <td>423A1CA112E2</td>\n",
       "      <td>1.622628e+12</td>\n",
       "      <td>313.0</td>\n",
       "      <td>401.0</td>\n",
       "      <td>Some certain areas in the United States ban ph...</td>\n",
       "      <td>Evidence</td>\n",
       "      <td>Evidence 1</td>\n",
       "      <td>60 61 62 63 64 65 66 67 68 69 70 71 72 73 74 75</td>\n",
       "    </tr>\n",
       "    <tr>\n",
       "      <th>3</th>\n",
       "      <td>423A1CA112E2</td>\n",
       "      <td>1.622628e+12</td>\n",
       "      <td>402.0</td>\n",
       "      <td>758.0</td>\n",
       "      <td>When people have phones, they know about certa...</td>\n",
       "      <td>Evidence</td>\n",
       "      <td>Evidence 2</td>\n",
       "      <td>76 77 78 79 80 81 82 83 84 85 86 87 88 89 90 9...</td>\n",
       "    </tr>\n",
       "    <tr>\n",
       "      <th>4</th>\n",
       "      <td>423A1CA112E2</td>\n",
       "      <td>1.622628e+12</td>\n",
       "      <td>759.0</td>\n",
       "      <td>886.0</td>\n",
       "      <td>Driving is one of the way how to get around. P...</td>\n",
       "      <td>Claim</td>\n",
       "      <td>Claim 1</td>\n",
       "      <td>139 140 141 142 143 144 145 146 147 148 149 15...</td>\n",
       "    </tr>\n",
       "  </tbody>\n",
       "</table>\n",
       "</div>"
      ],
      "text/plain": [
       "             id  discourse_id  discourse_start  discourse_end  \\\n",
       "0  423A1CA112E2  1.622628e+12              8.0          229.0   \n",
       "1  423A1CA112E2  1.622628e+12            230.0          312.0   \n",
       "2  423A1CA112E2  1.622628e+12            313.0          401.0   \n",
       "3  423A1CA112E2  1.622628e+12            402.0          758.0   \n",
       "4  423A1CA112E2  1.622628e+12            759.0          886.0   \n",
       "\n",
       "                                      discourse_text discourse_type  \\\n",
       "0  Modern humans today are always on their phone....           Lead   \n",
       "1  They are some really bad consequences when stu...       Position   \n",
       "2  Some certain areas in the United States ban ph...       Evidence   \n",
       "3  When people have phones, they know about certa...       Evidence   \n",
       "4  Driving is one of the way how to get around. P...          Claim   \n",
       "\n",
       "  discourse_type_num                                   predictionstring  \n",
       "0             Lead 1  1 2 3 4 5 6 7 8 9 10 11 12 13 14 15 16 17 18 1...  \n",
       "1         Position 1       45 46 47 48 49 50 51 52 53 54 55 56 57 58 59  \n",
       "2         Evidence 1    60 61 62 63 64 65 66 67 68 69 70 71 72 73 74 75  \n",
       "3         Evidence 2  76 77 78 79 80 81 82 83 84 85 86 87 88 89 90 9...  \n",
       "4            Claim 1  139 140 141 142 143 144 145 146 147 148 149 15...  "
      ]
     },
     "execution_count": 6,
     "metadata": {},
     "output_type": "execute_result"
    }
   ],
   "source": [
    "train = pd.read_csv('../input/feedback-prize-2021/train.csv')\n",
    "print( train.shape )\n",
    "train.head()"
   ]
  },
  {
   "cell_type": "code",
   "execution_count": 7,
   "id": "445788c0",
   "metadata": {
    "execution": {
     "iopub.execute_input": "2021-12-17T20:25:02.108382Z",
     "iopub.status.busy": "2021-12-17T20:25:02.107695Z",
     "iopub.status.idle": "2021-12-17T20:25:02.115300Z",
     "shell.execute_reply": "2021-12-17T20:25:02.115720Z",
     "shell.execute_reply.started": "2021-12-17T19:02:50.366776Z"
    },
    "papermill": {
     "duration": 0.054507,
     "end_time": "2021-12-17T20:25:02.115845",
     "exception": false,
     "start_time": "2021-12-17T20:25:02.061338",
     "status": "completed"
    },
    "tags": []
   },
   "outputs": [
    {
     "name": "stdout",
     "output_type": "stream",
     "text": [
      "The train labels are:\n"
     ]
    },
    {
     "data": {
      "text/plain": [
       "array(['Lead', 'Position', 'Evidence', 'Claim', 'Concluding Statement',\n",
       "       'Counterclaim', 'Rebuttal'], dtype=object)"
      ]
     },
     "execution_count": 7,
     "metadata": {},
     "output_type": "execute_result"
    }
   ],
   "source": [
    "print('The train labels are:')\n",
    "train.discourse_type.unique()"
   ]
  },
  {
   "cell_type": "code",
   "execution_count": 8,
   "id": "9c2ff5a2",
   "metadata": {
    "execution": {
     "iopub.execute_input": "2021-12-17T20:25:02.222659Z",
     "iopub.status.busy": "2021-12-17T20:25:02.221890Z",
     "iopub.status.idle": "2021-12-17T20:25:02.244486Z",
     "shell.execute_reply": "2021-12-17T20:25:02.245075Z",
     "shell.execute_reply.started": "2021-12-17T19:03:13.591272Z"
    },
    "papermill": {
     "duration": 0.089765,
     "end_time": "2021-12-17T20:25:02.245245",
     "exception": false,
     "start_time": "2021-12-17T20:25:02.155480",
     "status": "completed"
    },
    "tags": []
   },
   "outputs": [
    {
     "name": "stdout",
     "output_type": "stream",
     "text": [
      "There are 15594 train texts.\n"
     ]
    }
   ],
   "source": [
    "IDS = train.id.unique()\n",
    "print('There are',len(IDS),'train texts.')"
   ]
  },
  {
   "cell_type": "markdown",
   "id": "239ad00e",
   "metadata": {
    "papermill": {
     "duration": 0.047604,
     "end_time": "2021-12-17T20:25:02.341810",
     "exception": false,
     "start_time": "2021-12-17T20:25:02.294206",
     "status": "completed"
    },
    "tags": []
   },
   "source": [
    "# Tokenize Train\n",
    "The following code converts Kaggle's train dataset into a NER token array that we can use to train a NER transformer. I have made it very clear which targets belong to which class. This allows us to very easily convert this code to `Question Answer formulation` if we want. Just change the 14 NER arrays to be 14 arrays of `start position` and `end position` for each of the 7 classes. (You will need to think creatively what to do if a single text has multiple of one class)."
   ]
  },
  {
   "cell_type": "code",
   "execution_count": 9,
   "id": "3d0aac51",
   "metadata": {
    "execution": {
     "iopub.execute_input": "2021-12-17T20:25:02.464558Z",
     "iopub.status.busy": "2021-12-17T20:25:02.462749Z",
     "iopub.status.idle": "2021-12-17T20:25:02.624366Z",
     "shell.execute_reply": "2021-12-17T20:25:02.625231Z",
     "shell.execute_reply.started": "2021-12-17T19:46:00.356683Z"
    },
    "papermill": {
     "duration": 0.22774,
     "end_time": "2021-12-17T20:25:02.625412",
     "exception": false,
     "start_time": "2021-12-17T20:25:02.397672",
     "status": "completed"
    },
    "tags": []
   },
   "outputs": [],
   "source": [
    "MAX_LEN = 1024\n",
    "\n",
    "# THE TOKENS AND ATTENTION ARRAYS\n",
    "tokenizer = AutoTokenizer.from_pretrained(DOWNLOADED_MODEL_PATH)\n",
    "train_tokens = np.zeros((len(IDS),MAX_LEN), dtype='int32')\n",
    "train_attention = np.zeros((len(IDS),MAX_LEN), dtype='int32')\n",
    "\n",
    "# THE 14 CLASSES FOR NER\n",
    "lead_b = np.zeros((len(IDS),MAX_LEN))\n",
    "lead_i = np.zeros((len(IDS),MAX_LEN))\n",
    "\n",
    "position_b = np.zeros((len(IDS),MAX_LEN))\n",
    "position_i = np.zeros((len(IDS),MAX_LEN))\n",
    "\n",
    "evidence_b = np.zeros((len(IDS),MAX_LEN))\n",
    "evidence_i = np.zeros((len(IDS),MAX_LEN))\n",
    "\n",
    "claim_b = np.zeros((len(IDS),MAX_LEN))\n",
    "claim_i = np.zeros((len(IDS),MAX_LEN))\n",
    "\n",
    "conclusion_b = np.zeros((len(IDS),MAX_LEN))\n",
    "conclusion_i = np.zeros((len(IDS),MAX_LEN))\n",
    "\n",
    "counterclaim_b = np.zeros((len(IDS),MAX_LEN))\n",
    "counterclaim_i = np.zeros((len(IDS),MAX_LEN))\n",
    "\n",
    "rebuttal_b = np.zeros((len(IDS),MAX_LEN))\n",
    "rebuttal_i = np.zeros((len(IDS),MAX_LEN))\n",
    "\n",
    "# HELPER VARIABLES\n",
    "train_lens = []\n",
    "targets_b = [lead_b, position_b, evidence_b, claim_b, conclusion_b, counterclaim_b, rebuttal_b]\n",
    "targets_i = [lead_i, position_i, evidence_i, claim_i, conclusion_i, counterclaim_i, rebuttal_i]\n",
    "target_map = {'Lead':0, 'Position':1, 'Evidence':2, 'Claim':3, 'Concluding Statement':4,\n",
    "             'Counterclaim':5, 'Rebuttal':6}"
   ]
  },
  {
   "cell_type": "code",
   "execution_count": 10,
   "id": "9b2e4bd2",
   "metadata": {
    "execution": {
     "iopub.execute_input": "2021-12-17T20:25:02.749095Z",
     "iopub.status.busy": "2021-12-17T20:25:02.741292Z",
     "iopub.status.idle": "2021-12-17T20:25:05.499983Z",
     "shell.execute_reply": "2021-12-17T20:25:05.499344Z",
     "shell.execute_reply.started": "2021-12-17T19:46:04.046477Z"
    },
    "papermill": {
     "duration": 2.822198,
     "end_time": "2021-12-17T20:25:05.500129",
     "exception": false,
     "start_time": "2021-12-17T20:25:02.677931",
     "status": "completed"
    },
    "tags": []
   },
   "outputs": [],
   "source": [
    "# WE ASSUME DATAFRAME IS ASCENDING WHICH IT IS\n",
    "assert( np.sum(train.groupby('id')['discourse_start'].diff()<=0)==0 )\n",
    "\n",
    "# FOR LOOP THROUGH EACH TRAIN TEXT\n",
    "for id_num in range(len(IDS)):\n",
    "    if LOAD_TOKENS_FROM: break\n",
    "    if id_num%100==0: print(id_num,', ',end='')\n",
    "        \n",
    "    # READ TRAIN TEXT, TOKENIZE, AND SAVE IN TOKEN ARRAYS    \n",
    "    n = IDS[id_num]\n",
    "    name = f'../input/feedback-prize-2021/train/{n}.txt'\n",
    "    txt = open(name, 'r').read()\n",
    "    train_lens.append( len(txt.split()))\n",
    "    tokens = tokenizer.encode_plus(txt, max_length=MAX_LEN, padding='max_length',\n",
    "                                   truncation=True, return_offsets_mapping=True)\n",
    "    train_tokens[id_num,] = tokens['input_ids']\n",
    "    train_attention[id_num,] = tokens['attention_mask']\n",
    "    \n",
    "    # FIND TARGETS IN TEXT AND SAVE IN TARGET ARRAYS\n",
    "    offsets = tokens['offset_mapping']\n",
    "    offset_index = 0\n",
    "    df = train.loc[train.id==n]\n",
    "    for index,row in df.iterrows():\n",
    "        a = row.discourse_start\n",
    "        b = row.discourse_end\n",
    "        if offset_index>len(offsets)-1:\n",
    "            break\n",
    "        c = offsets[offset_index][0]\n",
    "        d = offsets[offset_index][1]\n",
    "        beginning = True\n",
    "        while b>c:\n",
    "            if (c>=a)&(b>=d):\n",
    "                k = target_map[row.discourse_type]\n",
    "                if beginning:\n",
    "                    targets_b[k][id_num][offset_index] = 1\n",
    "                    beginning = False\n",
    "                else:\n",
    "                    targets_i[k][id_num][offset_index] = 1\n",
    "            offset_index += 1\n",
    "            if offset_index>len(offsets)-1:\n",
    "                break\n",
    "            c = offsets[offset_index][0]\n",
    "            d = offsets[offset_index][1]"
   ]
  },
  {
   "cell_type": "code",
   "execution_count": 11,
   "id": "72f3c4c5",
   "metadata": {
    "execution": {
     "iopub.execute_input": "2021-12-17T20:25:05.570533Z",
     "iopub.status.busy": "2021-12-17T20:25:05.569671Z",
     "iopub.status.idle": "2021-12-17T20:25:05.572239Z",
     "shell.execute_reply": "2021-12-17T20:25:05.571813Z",
     "shell.execute_reply.started": "2021-12-17T19:46:24.685746Z"
    },
    "papermill": {
     "duration": 0.040239,
     "end_time": "2021-12-17T20:25:05.572343",
     "exception": false,
     "start_time": "2021-12-17T20:25:05.532104",
     "status": "completed"
    },
    "tags": []
   },
   "outputs": [],
   "source": [
    "if LOAD_TOKENS_FROM is None:\n",
    "    plt.hist(train_lens,bins=100)\n",
    "    plt.show()"
   ]
  },
  {
   "attachments": {
    "32758c72-717f-4674-9131-423d834e61a9.png": {
     "image/png": "[encoded data removed]"
    }
   },
   "cell_type": "markdown",
   "id": "0113eb3f",
   "metadata": {
    "papermill": {
     "duration": 0.032498,
     "end_time": "2021-12-17T20:25:05.637263",
     "exception": false,
     "start_time": "2021-12-17T20:25:05.604765",
     "status": "completed"
    },
    "tags": []
   },
   "source": [
    "![train_token_counts.png](attachment:32758c72-717f-4674-9131-423d834e61a9.png)\n",
    "\n",
    "From the histogram of train token counts above, we see that using a transformer width of 1024 is a good comprise of capturing most of the data's signal but not having too large a model. We could probably explore other widths between 512 and 1024 also. Or we could use widths of size 512 or smaller and use a stride which breaks a single text into multiple chunks (with possible overlap)."
   ]
  },
  {
   "cell_type": "code",
   "execution_count": 12,
   "id": "7a92b5bc",
   "metadata": {
    "execution": {
     "iopub.execute_input": "2021-12-17T20:25:05.705408Z",
     "iopub.status.busy": "2021-12-17T20:25:05.704567Z",
     "iopub.status.idle": "2021-12-17T20:25:05.706667Z",
     "shell.execute_reply": "2021-12-17T20:25:05.707074Z",
     "shell.execute_reply.started": "2021-12-17T19:10:19.607838Z"
    },
    "papermill": {
     "duration": 0.039059,
     "end_time": "2021-12-17T20:25:05.707214",
     "exception": false,
     "start_time": "2021-12-17T20:25:05.668155",
     "status": "completed"
    },
    "tags": []
   },
   "outputs": [],
   "source": [
    "if LOAD_TOKENS_FROM is None:\n",
    "    targets = np.zeros((len(IDS),MAX_LEN,15), dtype='int32')\n",
    "    for k in range(7):\n",
    "        targets[:,:,2*k] = targets_b[k]\n",
    "        targets[:,:,2*k+1] = targets_i[k]\n",
    "    targets[:,:,14] = 1-np.max(targets,axis=-1)"
   ]
  },
  {
   "cell_type": "code",
   "execution_count": 13,
   "id": "1a0e2586",
   "metadata": {
    "execution": {
     "iopub.execute_input": "2021-12-17T20:25:05.776273Z",
     "iopub.status.busy": "2021-12-17T20:25:05.775652Z",
     "iopub.status.idle": "2021-12-17T20:25:10.930013Z",
     "shell.execute_reply": "2021-12-17T20:25:10.930962Z",
     "shell.execute_reply.started": "2021-12-17T19:10:32.786634Z"
    },
    "papermill": {
     "duration": 5.192167,
     "end_time": "2021-12-17T20:25:10.931175",
     "exception": false,
     "start_time": "2021-12-17T20:25:05.739008",
     "status": "completed"
    },
    "tags": []
   },
   "outputs": [
    {
     "name": "stdout",
     "output_type": "stream",
     "text": [
      "Loaded NER tokens\n"
     ]
    }
   ],
   "source": [
    "if LOAD_TOKENS_FROM is None:\n",
    "    np.save(f'targets_{MAX_LEN}', targets)\n",
    "    np.save(f'tokens_{MAX_LEN}', train_tokens)\n",
    "    np.save(f'attention_{MAX_LEN}', train_attention)\n",
    "    print('Saved NER tokens')\n",
    "else:\n",
    "    targets = np.load(f'{LOAD_TOKENS_FROM}/targets_{MAX_LEN}.npy')\n",
    "    train_tokens = np.load(f'{LOAD_TOKENS_FROM}/tokens_{MAX_LEN}.npy')\n",
    "    train_attention = np.load(f'{LOAD_TOKENS_FROM}/attention_{MAX_LEN}.npy')\n",
    "    print('Loaded NER tokens')"
   ]
  },
  {
   "cell_type": "markdown",
   "id": "b605f5fa",
   "metadata": {
    "papermill": {
     "duration": 0.032017,
     "end_time": "2021-12-17T20:25:10.995163",
     "exception": false,
     "start_time": "2021-12-17T20:25:10.963146",
     "status": "completed"
    },
    "tags": []
   },
   "source": [
    "# Build Model\n",
    "We will use LongFormer backbone and add our own NER head using one hidden layer of size 256 and one final layer with softmax. We use 15 classes because we have a `B` class and `I` class for each of 7 labels. And we have an additional class (called `O` class) for tokens that do not belong to one of the 14 classes."
   ]
  },
  {
   "cell_type": "code",
   "execution_count": 14,
   "id": "19766bdc",
   "metadata": {
    "execution": {
     "iopub.execute_input": "2021-12-17T20:25:11.064847Z",
     "iopub.status.busy": "2021-12-17T20:25:11.064173Z",
     "iopub.status.idle": "2021-12-17T20:25:11.067544Z",
     "shell.execute_reply": "2021-12-17T20:25:11.067093Z",
     "shell.execute_reply.started": "2021-12-17T19:11:08.751218Z"
    },
    "papermill": {
     "duration": 0.041366,
     "end_time": "2021-12-17T20:25:11.067653",
     "exception": false,
     "start_time": "2021-12-17T20:25:11.026287",
     "status": "completed"
    },
    "tags": []
   },
   "outputs": [],
   "source": [
    "def build_model():\n",
    "    \n",
    "    tokens = tf.keras.layers.Input(shape=(MAX_LEN,), name = 'tokens', dtype=tf.int32)\n",
    "    attention = tf.keras.layers.Input(shape=(MAX_LEN,), name = 'attention', dtype=tf.int32)\n",
    "    \n",
    "    config = AutoConfig.from_pretrained(DOWNLOADED_MODEL_PATH+'/config.json') \n",
    "    backbone = TFAutoModel.from_pretrained(DOWNLOADED_MODEL_PATH+'/tf_model.h5', config=config)\n",
    "    \n",
    "    x = backbone(tokens, attention_mask=attention)\n",
    "    x = tf.keras.layers.Dense(256, activation='relu')(x[0])\n",
    "    x = tf.keras.layers.Dense(15, activation='softmax', dtype='float32')(x)\n",
    "    \n",
    "    model = tf.keras.Model(inputs=[tokens,attention], outputs=x)\n",
    "    model.compile(optimizer = tf.keras.optimizers.Adam(lr = 1e-4),\n",
    "                  loss = [tf.keras.losses.CategoricalCrossentropy()],\n",
    "                  metrics = [tf.keras.metrics.CategoricalAccuracy()])\n",
    "    \n",
    "    return model"
   ]
  },
  {
   "cell_type": "code",
   "execution_count": 15,
   "id": "8ead302c",
   "metadata": {
    "execution": {
     "iopub.execute_input": "2021-12-17T20:25:11.132593Z",
     "iopub.status.busy": "2021-12-17T20:25:11.132072Z",
     "iopub.status.idle": "2021-12-17T20:25:38.346733Z",
     "shell.execute_reply": "2021-12-17T20:25:38.347194Z",
     "shell.execute_reply.started": "2021-12-17T19:11:12.749178Z"
    },
    "papermill": {
     "duration": 27.249208,
     "end_time": "2021-12-17T20:25:38.347352",
     "exception": false,
     "start_time": "2021-12-17T20:25:11.098144",
     "status": "completed"
    },
    "tags": []
   },
   "outputs": [
    {
     "name": "stderr",
     "output_type": "stream",
     "text": [
      "All model checkpoint layers were used when initializing TFLongformerModel.\n",
      "\n",
      "All the layers of TFLongformerModel were initialized from the model checkpoint at ../input/tf-longformer-v12/tf_model.h5.\n",
      "If your task is similar to the task the model of the checkpoint was trained on, you can already use TFLongformerModel for predictions without further training.\n",
      "/opt/conda/lib/python3.7/site-packages/keras/optimizer_v2/optimizer_v2.py:356: UserWarning: The `lr` argument is deprecated, use `learning_rate` instead.\n",
      "  \"The `lr` argument is deprecated, use `learning_rate` instead.\")\n"
     ]
    }
   ],
   "source": [
    "with strategy.scope():\n",
    "    model = build_model()"
   ]
  },
  {
   "cell_type": "markdown",
   "id": "b8d0c525",
   "metadata": {
    "papermill": {
     "duration": 0.031169,
     "end_time": "2021-12-17T20:25:38.410824",
     "exception": false,
     "start_time": "2021-12-17T20:25:38.379655",
     "status": "completed"
    },
    "tags": []
   },
   "source": [
    "# Train or Load Model\n",
    "If you provide a path in variable `LOAD_MODEL_FROM` above, then it will load your previously trained model. Otherwise it will train now. \n",
    "\n",
    "We train 5 epochs of batch size 32 using learning rate `1e4` for the first four and `1e5` for the last epoch. I trained my model offline. If you wish to train on Kaggle's GPU, we may need to reduce the batch size. If we reduce the batch size to 8. That is 1/4 original. So we should also reduce the learning rates to `0.25e-4` and `0.25e-5`."
   ]
  },
  {
   "cell_type": "code",
   "execution_count": 16,
   "id": "5e65ca5c",
   "metadata": {
    "execution": {
     "iopub.execute_input": "2021-12-17T20:25:38.480125Z",
     "iopub.status.busy": "2021-12-17T20:25:38.479443Z",
     "iopub.status.idle": "2021-12-17T20:25:38.485831Z",
     "shell.execute_reply": "2021-12-17T20:25:38.486202Z",
     "shell.execute_reply.started": "2021-12-17T19:12:24.785437Z"
    },
    "papermill": {
     "duration": 0.044167,
     "end_time": "2021-12-17T20:25:38.486330",
     "exception": false,
     "start_time": "2021-12-17T20:25:38.442163",
     "status": "completed"
    },
    "tags": []
   },
   "outputs": [
    {
     "name": "stdout",
     "output_type": "stream",
     "text": [
      "Train size 14034 , Valid size 1560\n"
     ]
    }
   ],
   "source": [
    "# TRAIN VALID SPLIT 90% 10%\n",
    "np.random.seed(42)\n",
    "train_idx = np.random.choice(np.arange(len(IDS)),int(0.9*len(IDS)),replace=False)\n",
    "valid_idx = np.setdiff1d(np.arange(len(IDS)),train_idx)\n",
    "np.random.seed(None)\n",
    "print('Train size',len(train_idx),', Valid size',len(valid_idx))"
   ]
  },
  {
   "cell_type": "code",
   "execution_count": 17,
   "id": "408ef166",
   "metadata": {
    "execution": {
     "iopub.execute_input": "2021-12-17T20:25:38.553666Z",
     "iopub.status.busy": "2021-12-17T20:25:38.550929Z",
     "iopub.status.idle": "2021-12-17T20:25:38.556195Z",
     "shell.execute_reply": "2021-12-17T20:25:38.556723Z",
     "shell.execute_reply.started": "2021-12-17T19:12:38.905932Z"
    },
    "papermill": {
     "duration": 0.039095,
     "end_time": "2021-12-17T20:25:38.556850",
     "exception": false,
     "start_time": "2021-12-17T20:25:38.517755",
     "status": "completed"
    },
    "tags": []
   },
   "outputs": [],
   "source": [
    "# LEARNING RATE SCHEDULE AND MODEL CHECKPOINT\n",
    "EPOCHS = 5\n",
    "LRS = [1e-4, 1e-4, 1e-4, 1e-4, 1e-5]\n",
    "def lrfn(epoch):\n",
    "    return LRS[epoch]\n",
    "lr_callback = tf.keras.callbacks.LearningRateScheduler(lrfn, verbose = True)"
   ]
  },
  {
   "cell_type": "code",
   "execution_count": 18,
   "id": "9d71aae7",
   "metadata": {
    "execution": {
     "iopub.execute_input": "2021-12-17T20:25:38.631785Z",
     "iopub.status.busy": "2021-12-17T20:25:38.631096Z",
     "iopub.status.idle": "2021-12-17T20:25:42.695785Z",
     "shell.execute_reply": "2021-12-17T20:25:42.695264Z",
     "shell.execute_reply.started": "2021-12-17T19:12:52.044148Z"
    },
    "papermill": {
     "duration": 4.107475,
     "end_time": "2021-12-17T20:25:42.695946",
     "exception": false,
     "start_time": "2021-12-17T20:25:38.588471",
     "status": "completed"
    },
    "scrolled": true,
    "tags": []
   },
   "outputs": [],
   "source": [
    "# LOAD MODEL\n",
    "if LOAD_MODEL_FROM:\n",
    "    model.load_weights(f'{LOAD_MODEL_FROM}/long_v{VER}.h5')\n",
    "    \n",
    "# OR TRAIN MODEL\n",
    "else:\n",
    "    model.fit(x = [train_tokens[train_idx,], train_attention[train_idx,]],\n",
    "          y = targets[train_idx,],\n",
    "          validation_data = ([train_tokens[valid_idx,], train_attention[valid_idx,]],\n",
    "                             targets[valid_idx,]),\n",
    "          callbacks = [lr_callback],\n",
    "          epochs = EPOCHS,\n",
    "          batch_size = 32,\n",
    "          verbose = 2)\n",
    "\n",
    "    # SAVE MODEL WEIGHTS\n",
    "    model.save_weights(f'long_v{VER}.h5')"
   ]
  },
  {
   "cell_type": "markdown",
   "id": "92899d45",
   "metadata": {
    "papermill": {
     "duration": 0.031607,
     "end_time": "2021-12-17T20:25:42.759768",
     "exception": false,
     "start_time": "2021-12-17T20:25:42.728161",
     "status": "completed"
    },
    "tags": []
   },
   "source": [
    "# Validate Model - Infer OOF\n",
    "We will now make predictions on the validation texts. Our model makes label predictions for each token, we need to convert this into a list of word indices for each label. Note that the tokens and words are not the same. A single word may be broken into multiple tokens. Therefore we need to first create a map to change token indices to word indices."
   ]
  },
  {
   "cell_type": "code",
   "execution_count": 19,
   "id": "4cea77c5",
   "metadata": {
    "execution": {
     "iopub.execute_input": "2021-12-17T20:25:42.829071Z",
     "iopub.status.busy": "2021-12-17T20:25:42.828073Z",
     "iopub.status.idle": "2021-12-17T20:29:19.764211Z",
     "shell.execute_reply": "2021-12-17T20:29:19.764658Z",
     "shell.execute_reply.started": "2021-12-17T19:35:15.537193Z"
    },
    "papermill": {
     "duration": 216.973333,
     "end_time": "2021-12-17T20:29:19.764813",
     "exception": false,
     "start_time": "2021-12-17T20:25:42.791480",
     "status": "completed"
    },
    "tags": []
   },
   "outputs": [
    {
     "name": "stdout",
     "output_type": "stream",
     "text": [
      "98/98 - 185s\n",
      "OOF predictions shape: (1560, 1024, 15)\n"
     ]
    }
   ],
   "source": [
    "p = model.predict([train_tokens[valid_idx,], train_attention[valid_idx,]], \n",
    "                  batch_size=16, verbose=2)\n",
    "print('OOF predictions shape:',p.shape)\n",
    "oof_preds = np.argmax(p,axis=-1)"
   ]
  },
  {
   "cell_type": "code",
   "execution_count": 20,
   "id": "0ba82d19",
   "metadata": {
    "execution": {
     "iopub.execute_input": "2021-12-17T20:29:19.834756Z",
     "iopub.status.busy": "2021-12-17T20:29:19.834004Z",
     "iopub.status.idle": "2021-12-17T20:29:19.836365Z",
     "shell.execute_reply": "2021-12-17T20:29:19.835956Z",
     "shell.execute_reply.started": "2021-12-17T19:17:57.711027Z"
    },
    "papermill": {
     "duration": 0.039195,
     "end_time": "2021-12-17T20:29:19.836492",
     "exception": false,
     "start_time": "2021-12-17T20:29:19.797297",
     "status": "completed"
    },
    "tags": []
   },
   "outputs": [],
   "source": [
    "target_map_rev = {0:'Lead', 1:'Position', 2:'Evidence', 3:'Claim', 4:'Concluding Statement',\n",
    "             5:'Counterclaim', 6:'Rebuttal', 7:'blank'}"
   ]
  },
  {
   "cell_type": "code",
   "execution_count": 21,
   "id": "767aeb7a",
   "metadata": {
    "execution": {
     "iopub.execute_input": "2021-12-17T20:29:19.916938Z",
     "iopub.status.busy": "2021-12-17T20:29:19.915987Z",
     "iopub.status.idle": "2021-12-17T20:29:19.918753Z",
     "shell.execute_reply": "2021-12-17T20:29:19.918042Z",
     "shell.execute_reply.started": "2021-12-17T19:41:51.405212Z"
    },
    "papermill": {
     "duration": 0.049775,
     "end_time": "2021-12-17T20:29:19.918862",
     "exception": false,
     "start_time": "2021-12-17T20:29:19.869087",
     "status": "completed"
    },
    "tags": []
   },
   "outputs": [],
   "source": [
    "def get_preds(dataset='train', verbose=True, text_ids=IDS[valid_idx], preds=oof_preds):\n",
    "    all_predictions = []\n",
    "\n",
    "    for id_num in range(len(preds)):\n",
    "    \n",
    "        # GET ID\n",
    "        if (id_num%100==0)&(verbose): \n",
    "            print(id_num,', ',end='')\n",
    "        n = text_ids[id_num]\n",
    "    \n",
    "        # GET TOKEN POSITIONS IN CHARS\n",
    "        name = f'../input/feedback-prize-2021/{dataset}/{n}.txt'\n",
    "        txt = open(name, 'r').read()\n",
    "        tokens = tokenizer.encode_plus(txt, max_length=MAX_LEN, padding='max_length',\n",
    "                                   truncation=True, return_offsets_mapping=True)\n",
    "        off = tokens['offset_mapping']\n",
    "    \n",
    "        # GET WORD POSITIONS IN CHARS\n",
    "        w = []\n",
    "        blank = True\n",
    "        for i in range(len(txt)):\n",
    "            if (txt[i]!=' ')&(txt[i]!='\\n')&(blank==True):\n",
    "                w.append(i)\n",
    "                blank=False\n",
    "            elif (txt[i]==' ')|(txt[i]=='\\n'):\n",
    "                blank=True\n",
    "        w.append(1e6)\n",
    "            \n",
    "        # MAPPING FROM TOKENS TO WORDS\n",
    "        word_map = -1 * np.ones(MAX_LEN,dtype='int32')\n",
    "        w_i = 0\n",
    "        for i in range(len(off)):\n",
    "            if off[i][1]==0: continue\n",
    "            while off[i][0]>=w[w_i+1]: w_i += 1\n",
    "            word_map[i] = int(w_i)\n",
    "        \n",
    "        # CONVERT TOKEN PREDICTIONS INTO WORD LABELS\n",
    "        # KEY:\n",
    "        # 0: LEAD_B, 1: LEAD_I\n",
    "        # 2: POSITION_B, 3: POSITION_I\n",
    "        # 4: EVIDENCE_B, 5: EVIDENCE_I\n",
    "        # 6: CLAIM_B, 7: CLAIM_I\n",
    "        # 8: CONCLUSION_B, 9: CONCLUSION_I\n",
    "        # 10: COUNTERCLAIM_B, 11: COUNTERCLAIM_I\n",
    "        # 12: REBUTTAL_B, 13: REBUTTAL_I\n",
    "        # 14: NOTHING i.e. O\n",
    "        pred = preds[id_num,]/2.0\n",
    "    \n",
    "        i = 0\n",
    "        while i<MAX_LEN:\n",
    "            prediction = []\n",
    "            start = pred[i]\n",
    "            if start in [0,1,2,3,4,5,6,7]:\n",
    "                prediction.append(word_map[i])\n",
    "                i += 1\n",
    "                if i>=MAX_LEN: break\n",
    "                while pred[i]==start+0.5:\n",
    "                    if not word_map[i] in prediction:\n",
    "                        prediction.append(word_map[i])\n",
    "                    i += 1\n",
    "                    if i>=MAX_LEN: break\n",
    "            else:\n",
    "                i += 1\n",
    "            prediction = [x for x in prediction if x!=-1]\n",
    "            if len(prediction)>4:\n",
    "                all_predictions.append( (n, target_map_rev[int(start)], \n",
    "                                ' '.join([str(x) for x in prediction]) ) )\n",
    "                \n",
    "    # MAKE DATAFRAME\n",
    "    df = pd.DataFrame(all_predictions)\n",
    "    df.columns = ['id','class','predictionstring']\n",
    "    \n",
    "    return df"
   ]
  },
  {
   "cell_type": "code",
   "execution_count": 22,
   "id": "0f4fa5d7",
   "metadata": {
    "execution": {
     "iopub.execute_input": "2021-12-17T20:29:19.988264Z",
     "iopub.status.busy": "2021-12-17T20:29:19.987778Z",
     "iopub.status.idle": "2021-12-17T20:29:44.766601Z",
     "shell.execute_reply": "2021-12-17T20:29:44.766135Z",
     "shell.execute_reply.started": "2021-12-17T19:38:52.584427Z"
    },
    "papermill": {
     "duration": 24.814955,
     "end_time": "2021-12-17T20:29:44.766738",
     "exception": false,
     "start_time": "2021-12-17T20:29:19.951783",
     "status": "completed"
    },
    "tags": []
   },
   "outputs": [
    {
     "name": "stdout",
     "output_type": "stream",
     "text": [
      "0 , 100 , 200 , 300 , 400 , 500 , 600 , 700 , 800 , 900 , 1000 , 1100 , 1200 , 1300 , 1400 , 1500 , "
     ]
    },
    {
     "data": {
      "text/html": [
       "<div>\n",
       "<style scoped>\n",
       "    .dataframe tbody tr th:only-of-type {\n",
       "        vertical-align: middle;\n",
       "    }\n",
       "\n",
       "    .dataframe tbody tr th {\n",
       "        vertical-align: top;\n",
       "    }\n",
       "\n",
       "    .dataframe thead th {\n",
       "        text-align: right;\n",
       "    }\n",
       "</style>\n",
       "<table border=\"1\" class=\"dataframe\">\n",
       "  <thead>\n",
       "    <tr style=\"text-align: right;\">\n",
       "      <th></th>\n",
       "      <th>id</th>\n",
       "      <th>class</th>\n",
       "      <th>predictionstring</th>\n",
       "    </tr>\n",
       "  </thead>\n",
       "  <tbody>\n",
       "    <tr>\n",
       "      <th>0</th>\n",
       "      <td>50B3435E475B</td>\n",
       "      <td>Lead</td>\n",
       "      <td>3 4 5 6 7 8 9 10 11 12 13 14 15 16 17 18 19 20...</td>\n",
       "    </tr>\n",
       "    <tr>\n",
       "      <th>1</th>\n",
       "      <td>50B3435E475B</td>\n",
       "      <td>Position</td>\n",
       "      <td>63 64 65 66 67 68 69 70 71 72 73 74 75</td>\n",
       "    </tr>\n",
       "    <tr>\n",
       "      <th>2</th>\n",
       "      <td>50B3435E475B</td>\n",
       "      <td>Claim</td>\n",
       "      <td>76 77 78 79 80 81 82 83 84 85 86 87</td>\n",
       "    </tr>\n",
       "    <tr>\n",
       "      <th>3</th>\n",
       "      <td>50B3435E475B</td>\n",
       "      <td>Evidence</td>\n",
       "      <td>88 89 90 91 92 93 94 95 96 97 98 99 100 101 10...</td>\n",
       "    </tr>\n",
       "    <tr>\n",
       "      <th>4</th>\n",
       "      <td>50B3435E475B</td>\n",
       "      <td>Claim</td>\n",
       "      <td>162 163 164 165 166 167 168 169 170 171 172 17...</td>\n",
       "    </tr>\n",
       "  </tbody>\n",
       "</table>\n",
       "</div>"
      ],
      "text/plain": [
       "             id     class                                   predictionstring\n",
       "0  50B3435E475B      Lead  3 4 5 6 7 8 9 10 11 12 13 14 15 16 17 18 19 20...\n",
       "1  50B3435E475B  Position             63 64 65 66 67 68 69 70 71 72 73 74 75\n",
       "2  50B3435E475B     Claim                76 77 78 79 80 81 82 83 84 85 86 87\n",
       "3  50B3435E475B  Evidence  88 89 90 91 92 93 94 95 96 97 98 99 100 101 10...\n",
       "4  50B3435E475B     Claim  162 163 164 165 166 167 168 169 170 171 172 17..."
      ]
     },
     "execution_count": 22,
     "metadata": {},
     "output_type": "execute_result"
    }
   ],
   "source": [
    "oof = get_preds( dataset='train', verbose=True, text_ids=IDS[valid_idx] )\n",
    "oof.head()"
   ]
  },
  {
   "cell_type": "code",
   "execution_count": 23,
   "id": "134ac6c6",
   "metadata": {
    "execution": {
     "iopub.execute_input": "2021-12-17T20:29:44.846642Z",
     "iopub.status.busy": "2021-12-17T20:29:44.845349Z",
     "iopub.status.idle": "2021-12-17T20:29:44.849870Z",
     "shell.execute_reply": "2021-12-17T20:29:44.850265Z",
     "shell.execute_reply.started": "2021-12-17T19:39:08.711312Z"
    },
    "papermill": {
     "duration": 0.045903,
     "end_time": "2021-12-17T20:29:44.850387",
     "exception": false,
     "start_time": "2021-12-17T20:29:44.804484",
     "status": "completed"
    },
    "tags": []
   },
   "outputs": [
    {
     "name": "stdout",
     "output_type": "stream",
     "text": [
      "The following classes are present in oof preds:\n"
     ]
    },
    {
     "data": {
      "text/plain": [
       "array(['Lead', 'Position', 'Claim', 'Evidence', 'Concluding Statement',\n",
       "       'Rebuttal', 'Counterclaim'], dtype=object)"
      ]
     },
     "execution_count": 23,
     "metadata": {},
     "output_type": "execute_result"
    }
   ],
   "source": [
    "print('The following classes are present in oof preds:')\n",
    "oof['class'].unique()"
   ]
  },
  {
   "cell_type": "markdown",
   "id": "f0b62d85",
   "metadata": {
    "papermill": {
     "duration": 0.036937,
     "end_time": "2021-12-17T20:29:44.924208",
     "exception": false,
     "start_time": "2021-12-17T20:29:44.887271",
     "status": "completed"
    },
    "tags": []
   },
   "source": [
    "# Compute Validation Metric\n",
    "The following code is from Rob Mulla's excellent notebook [here][2]. Our LongFormer single fold model achieves CV score 0.617! Hooray!\n",
    "\n",
    "[2]: https://www.kaggle.com/robikscube/student-writing-competition-twitch"
   ]
  },
  {
   "cell_type": "code",
   "execution_count": 24,
   "id": "06cde461",
   "metadata": {
    "execution": {
     "iopub.execute_input": "2021-12-17T20:29:45.006964Z",
     "iopub.status.busy": "2021-12-17T20:29:45.006006Z",
     "iopub.status.idle": "2021-12-17T20:29:45.015535Z",
     "shell.execute_reply": "2021-12-17T20:29:45.016138Z",
     "shell.execute_reply.started": "2021-12-17T19:18:48.557629Z"
    },
    "papermill": {
     "duration": 0.055012,
     "end_time": "2021-12-17T20:29:45.016323",
     "exception": false,
     "start_time": "2021-12-17T20:29:44.961311",
     "status": "completed"
    },
    "tags": []
   },
   "outputs": [],
   "source": [
    "# CODE FROM : Rob Mulla @robikscube\n",
    "# https://www.kaggle.com/robikscube/student-writing-competition-twitch\n",
    "def calc_overlap(row):\n",
    "    \"\"\"\n",
    "    Calculates the overlap between prediction and\n",
    "    ground truth and overlap percentages used for determining\n",
    "    true positives.\n",
    "    \"\"\"\n",
    "    set_pred = set(row.predictionstring_pred.split(' '))\n",
    "    set_gt = set(row.predictionstring_gt.split(' '))\n",
    "    # Length of each and intersection\n",
    "    len_gt = len(set_gt)\n",
    "    len_pred = len(set_pred)\n",
    "    inter = len(set_gt.intersection(set_pred))\n",
    "    overlap_1 = inter / len_gt\n",
    "    overlap_2 = inter/ len_pred\n",
    "    return [overlap_1, overlap_2]\n",
    "\n",
    "\n",
    "def score_feedback_comp(pred_df, gt_df):\n",
    "    \"\"\"\n",
    "    A function that scores for the kaggle\n",
    "        Student Writing Competition\n",
    "        \n",
    "    Uses the steps in the evaluation page here:\n",
    "        https://www.kaggle.com/c/feedback-prize-2021/overview/evaluation\n",
    "    \"\"\"\n",
    "    gt_df = gt_df[['id','discourse_type','predictionstring']] \\\n",
    "        .reset_index(drop=True).copy()\n",
    "    pred_df = pred_df[['id','class','predictionstring']] \\\n",
    "        .reset_index(drop=True).copy()\n",
    "    pred_df['pred_id'] = pred_df.index\n",
    "    gt_df['gt_id'] = gt_df.index\n",
    "    # Step 1. all ground truths and predictions for a given class are compared.\n",
    "    joined = pred_df.merge(gt_df,\n",
    "                           left_on=['id','class'],\n",
    "                           right_on=['id','discourse_type'],\n",
    "                           how='outer',\n",
    "                           suffixes=('_pred','_gt')\n",
    "                          )\n",
    "    joined['predictionstring_gt'] = joined['predictionstring_gt'].fillna(' ')\n",
    "    joined['predictionstring_pred'] = joined['predictionstring_pred'].fillna(' ')\n",
    "\n",
    "    joined['overlaps'] = joined.apply(calc_overlap, axis=1)\n",
    "\n",
    "    # 2. If the overlap between the ground truth and prediction is >= 0.5, \n",
    "    # and the overlap between the prediction and the ground truth >= 0.5,\n",
    "    # the prediction is a match and considered a true positive.\n",
    "    # If multiple matches exist, the match with the highest pair of overlaps is taken.\n",
    "    joined['overlap1'] = joined['overlaps'].apply(lambda x: eval(str(x))[0])\n",
    "    joined['overlap2'] = joined['overlaps'].apply(lambda x: eval(str(x))[1])\n",
    "\n",
    "\n",
    "    joined['potential_TP'] = (joined['overlap1'] >= 0.5) & (joined['overlap2'] >= 0.5)\n",
    "    joined['max_overlap'] = joined[['overlap1','overlap2']].max(axis=1)\n",
    "    tp_pred_ids = joined.query('potential_TP') \\\n",
    "        .sort_values('max_overlap', ascending=False) \\\n",
    "        .groupby(['id','predictionstring_gt']).first()['pred_id'].values\n",
    "\n",
    "    # 3. Any unmatched ground truths are false negatives\n",
    "    # and any unmatched predictions are false positives.\n",
    "    fp_pred_ids = [p for p in joined['pred_id'].unique() if p not in tp_pred_ids]\n",
    "\n",
    "    matched_gt_ids = joined.query('potential_TP')['gt_id'].unique()\n",
    "    unmatched_gt_ids = [c for c in joined['gt_id'].unique() if c not in matched_gt_ids]\n",
    "\n",
    "    # Get numbers of each type\n",
    "    TP = len(tp_pred_ids)\n",
    "    FP = len(fp_pred_ids)\n",
    "    FN = len(unmatched_gt_ids)\n",
    "    #calc microf1\n",
    "    my_f1_score = TP / (TP + 0.5*(FP+FN))\n",
    "    return my_f1_score"
   ]
  },
  {
   "cell_type": "code",
   "execution_count": 25,
   "id": "eb400c6a",
   "metadata": {
    "execution": {
     "iopub.execute_input": "2021-12-17T20:29:45.121455Z",
     "iopub.status.busy": "2021-12-17T20:29:45.120896Z",
     "iopub.status.idle": "2021-12-17T20:29:45.128201Z",
     "shell.execute_reply": "2021-12-17T20:29:45.127726Z",
     "shell.execute_reply.started": "2021-12-17T19:18:51.690875Z"
    },
    "papermill": {
     "duration": 0.071087,
     "end_time": "2021-12-17T20:29:45.128310",
     "exception": false,
     "start_time": "2021-12-17T20:29:45.057223",
     "status": "completed"
    },
    "tags": []
   },
   "outputs": [],
   "source": [
    "# VALID DATAFRAME\n",
    "valid = train.loc[train['id'].isin(IDS[valid_idx])]"
   ]
  },
  {
   "cell_type": "code",
   "execution_count": 26,
   "id": "7fe3724a",
   "metadata": {
    "execution": {
     "iopub.execute_input": "2021-12-17T20:29:45.213425Z",
     "iopub.status.busy": "2021-12-17T20:29:45.212682Z",
     "iopub.status.idle": "2021-12-17T20:29:47.251316Z",
     "shell.execute_reply": "2021-12-17T20:29:47.250877Z",
     "shell.execute_reply.started": "2021-12-17T19:39:15.827318Z"
    },
    "papermill": {
     "duration": 2.083675,
     "end_time": "2021-12-17T20:29:47.251460",
     "exception": false,
     "start_time": "2021-12-17T20:29:45.167785",
     "status": "completed"
    },
    "tags": []
   },
   "outputs": [
    {
     "name": "stdout",
     "output_type": "stream",
     "text": [
      "Lead 0.8050383351588171\n",
      "Position 0.6710617626648161\n",
      "Claim 0.5733796037165566\n",
      "Evidence 0.6446239273094396\n",
      "Concluding Statement 0.7782426778242678\n",
      "Rebuttal 0.36578171091445427\n",
      "Counterclaim 0.483349191246432\n",
      "\n",
      "Overall 0.6173538869763976\n"
     ]
    }
   ],
   "source": [
    "f1s = []\n",
    "CLASSES = oof['class'].unique()\n",
    "for c in CLASSES:\n",
    "    pred_df = oof.loc[oof['class']==c].copy()\n",
    "    gt_df = valid.loc[valid['discourse_type']==c].copy()\n",
    "    f1 = score_feedback_comp(pred_df, gt_df)\n",
    "    print(c,f1)\n",
    "    f1s.append(f1)\n",
    "print()\n",
    "print('Overall',np.mean(f1s))"
   ]
  },
  {
   "cell_type": "markdown",
   "id": "22c3b62e",
   "metadata": {
    "papermill": {
     "duration": 0.037993,
     "end_time": "2021-12-17T20:29:47.328608",
     "exception": false,
     "start_time": "2021-12-17T20:29:47.290615",
     "status": "completed"
    },
    "tags": []
   },
   "source": [
    "# Infer Test Data\n",
    "We will now infer the test data and create a submission. Our CV is 0.617, let's see what our LB is!"
   ]
  },
  {
   "cell_type": "code",
   "execution_count": 27,
   "id": "86403fb5",
   "metadata": {
    "execution": {
     "iopub.execute_input": "2021-12-17T20:29:47.408478Z",
     "iopub.status.busy": "2021-12-17T20:29:47.407939Z",
     "iopub.status.idle": "2021-12-17T20:29:47.413950Z",
     "shell.execute_reply": "2021-12-17T20:29:47.414322Z",
     "shell.execute_reply.started": "2021-12-17T19:23:45.716559Z"
    },
    "papermill": {
     "duration": 0.048039,
     "end_time": "2021-12-17T20:29:47.414473",
     "exception": false,
     "start_time": "2021-12-17T20:29:47.366434",
     "status": "completed"
    },
    "tags": []
   },
   "outputs": [
    {
     "name": "stdout",
     "output_type": "stream",
     "text": [
      "There are 5 test texts.\n"
     ]
    }
   ],
   "source": [
    "# GET TEST TEXT IDS\n",
    "files = os.listdir('../input/feedback-prize-2021/test')\n",
    "TEST_IDS = [f.replace('.txt','') for f in files if 'txt' in f]\n",
    "print('There are',len(TEST_IDS),'test texts.')"
   ]
  },
  {
   "cell_type": "code",
   "execution_count": 28,
   "id": "adbfa240",
   "metadata": {
    "execution": {
     "iopub.execute_input": "2021-12-17T20:29:47.497007Z",
     "iopub.status.busy": "2021-12-17T20:29:47.496509Z",
     "iopub.status.idle": "2021-12-17T20:29:47.539318Z",
     "shell.execute_reply": "2021-12-17T20:29:47.539940Z",
     "shell.execute_reply.started": "2021-12-17T19:26:18.345399Z"
    },
    "papermill": {
     "duration": 0.087345,
     "end_time": "2021-12-17T20:29:47.540061",
     "exception": false,
     "start_time": "2021-12-17T20:29:47.452716",
     "status": "completed"
    },
    "tags": []
   },
   "outputs": [],
   "source": [
    "# CONVERT TEST TEXT TO TOKENS\n",
    "test_tokens = np.zeros((len(TEST_IDS),MAX_LEN), dtype='int32')\n",
    "test_attention = np.zeros((len(TEST_IDS),MAX_LEN), dtype='int32')\n",
    "\n",
    "for id_num in range(len(TEST_IDS)):\n",
    "        \n",
    "    # READ TRAIN TEXT, TOKENIZE, AND SAVE IN TOKEN ARRAYS    \n",
    "    n = TEST_IDS[id_num]\n",
    "    name = f'../input/feedback-prize-2021/test/{n}.txt'\n",
    "    txt = open(name, 'r').read()\n",
    "    tokens = tokenizer.encode_plus(txt, max_length=MAX_LEN, padding='max_length',\n",
    "                                   truncation=True, return_offsets_mapping=True)\n",
    "    test_tokens[id_num,] = tokens['input_ids']\n",
    "    test_attention[id_num,] = tokens['attention_mask']"
   ]
  },
  {
   "cell_type": "code",
   "execution_count": 29,
   "id": "6e195a9e",
   "metadata": {
    "execution": {
     "iopub.execute_input": "2021-12-17T20:29:47.621467Z",
     "iopub.status.busy": "2021-12-17T20:29:47.620339Z",
     "iopub.status.idle": "2021-12-17T20:29:48.251480Z",
     "shell.execute_reply": "2021-12-17T20:29:48.250977Z",
     "shell.execute_reply.started": "2021-12-17T19:39:40.59718Z"
    },
    "papermill": {
     "duration": 0.672972,
     "end_time": "2021-12-17T20:29:48.251607",
     "exception": false,
     "start_time": "2021-12-17T20:29:47.578635",
     "status": "completed"
    },
    "tags": []
   },
   "outputs": [
    {
     "name": "stdout",
     "output_type": "stream",
     "text": [
      "1/1 - 1s\n",
      "Test predictions shape: (5, 1024, 15)\n"
     ]
    }
   ],
   "source": [
    "# INFER TEST TEXTS\n",
    "p = model.predict([test_tokens, test_attention], \n",
    "                  batch_size=16, verbose=2)\n",
    "print('Test predictions shape:',p.shape)\n",
    "test_preds = np.argmax(p,axis=-1)"
   ]
  },
  {
   "cell_type": "markdown",
   "id": "f75958c8",
   "metadata": {
    "papermill": {
     "duration": 0.039006,
     "end_time": "2021-12-17T20:29:48.331080",
     "exception": false,
     "start_time": "2021-12-17T20:29:48.292074",
     "status": "completed"
    },
    "tags": []
   },
   "source": [
    "# Write Submission CSV"
   ]
  },
  {
   "cell_type": "code",
   "execution_count": 30,
   "id": "e8916171",
   "metadata": {
    "execution": {
     "iopub.execute_input": "2021-12-17T20:29:48.421278Z",
     "iopub.status.busy": "2021-12-17T20:29:48.420582Z",
     "iopub.status.idle": "2021-12-17T20:29:48.494062Z",
     "shell.execute_reply": "2021-12-17T20:29:48.494467Z",
     "shell.execute_reply.started": "2021-12-17T19:41:55.220529Z"
    },
    "papermill": {
     "duration": 0.118228,
     "end_time": "2021-12-17T20:29:48.494601",
     "exception": false,
     "start_time": "2021-12-17T20:29:48.376373",
     "status": "completed"
    },
    "tags": []
   },
   "outputs": [
    {
     "data": {
      "text/html": [
       "<div>\n",
       "<style scoped>\n",
       "    .dataframe tbody tr th:only-of-type {\n",
       "        vertical-align: middle;\n",
       "    }\n",
       "\n",
       "    .dataframe tbody tr th {\n",
       "        vertical-align: top;\n",
       "    }\n",
       "\n",
       "    .dataframe thead th {\n",
       "        text-align: right;\n",
       "    }\n",
       "</style>\n",
       "<table border=\"1\" class=\"dataframe\">\n",
       "  <thead>\n",
       "    <tr style=\"text-align: right;\">\n",
       "      <th></th>\n",
       "      <th>id</th>\n",
       "      <th>class</th>\n",
       "      <th>predictionstring</th>\n",
       "    </tr>\n",
       "  </thead>\n",
       "  <tbody>\n",
       "    <tr>\n",
       "      <th>0</th>\n",
       "      <td>0FB0700DAF44</td>\n",
       "      <td>Lead</td>\n",
       "      <td>0 1 2 3 4 5 6 7 8 9 10 11 12 13 14 15 16 17 18...</td>\n",
       "    </tr>\n",
       "    <tr>\n",
       "      <th>1</th>\n",
       "      <td>0FB0700DAF44</td>\n",
       "      <td>Position</td>\n",
       "      <td>41 42 43 44 45 46 47</td>\n",
       "    </tr>\n",
       "    <tr>\n",
       "      <th>2</th>\n",
       "      <td>0FB0700DAF44</td>\n",
       "      <td>Claim</td>\n",
       "      <td>49 50 51 52 53 54 55 56 57 58 59 60 61 62 63 64</td>\n",
       "    </tr>\n",
       "    <tr>\n",
       "      <th>3</th>\n",
       "      <td>0FB0700DAF44</td>\n",
       "      <td>Claim</td>\n",
       "      <td>66 67 68 69 70 71 72 73 74 75 76 77 78 79 80 8...</td>\n",
       "    </tr>\n",
       "    <tr>\n",
       "      <th>4</th>\n",
       "      <td>0FB0700DAF44</td>\n",
       "      <td>Claim</td>\n",
       "      <td>89 90 91 92 93 94 95 96 97 98 99 100 101 102 1...</td>\n",
       "    </tr>\n",
       "  </tbody>\n",
       "</table>\n",
       "</div>"
      ],
      "text/plain": [
       "             id     class                                   predictionstring\n",
       "0  0FB0700DAF44      Lead  0 1 2 3 4 5 6 7 8 9 10 11 12 13 14 15 16 17 18...\n",
       "1  0FB0700DAF44  Position                               41 42 43 44 45 46 47\n",
       "2  0FB0700DAF44     Claim    49 50 51 52 53 54 55 56 57 58 59 60 61 62 63 64\n",
       "3  0FB0700DAF44     Claim  66 67 68 69 70 71 72 73 74 75 76 77 78 79 80 8...\n",
       "4  0FB0700DAF44     Claim  89 90 91 92 93 94 95 96 97 98 99 100 101 102 1..."
      ]
     },
     "execution_count": 30,
     "metadata": {},
     "output_type": "execute_result"
    }
   ],
   "source": [
    "# GET TEST PREDICIONS\n",
    "sub = get_preds( dataset='test', verbose=False, text_ids=TEST_IDS, preds=test_preds )\n",
    "sub.head()"
   ]
  },
  {
   "cell_type": "code",
   "execution_count": 31,
   "id": "3358aef7",
   "metadata": {
    "execution": {
     "iopub.execute_input": "2021-12-17T20:29:48.578155Z",
     "iopub.status.busy": "2021-12-17T20:29:48.577340Z",
     "iopub.status.idle": "2021-12-17T20:29:48.582052Z",
     "shell.execute_reply": "2021-12-17T20:29:48.581641Z"
    },
    "papermill": {
     "duration": 0.048352,
     "end_time": "2021-12-17T20:29:48.582170",
     "exception": false,
     "start_time": "2021-12-17T20:29:48.533818",
     "status": "completed"
    },
    "tags": []
   },
   "outputs": [],
   "source": [
    "# WRITE SUBMISSION CSV\n",
    "sub.to_csv('submission.csv',index=False)"
   ]
  }
 ],
 "metadata": {
  "kernelspec": {
   "display_name": "Python 3",
   "language": "python",
   "name": "python3"
  },
  "language_info": {
   "codemirror_mode": {
    "name": "ipython",
    "version": 3
   },
   "file_extension": ".py",
   "mimetype": "text/x-python",
   "name": "python",
   "nbconvert_exporter": "python",
   "pygments_lexer": "ipython3",
   "version": "3.7.12"
  },
  "papermill": {
   "default_parameters": {},
   "duration": 310.495738,
   "end_time": "2021-12-17T20:29:52.007595",
   "environment_variables": {},
   "exception": null,
   "input_path": "__notebook__.ipynb",
   "output_path": "__notebook__.ipynb",
   "parameters": {},
   "start_time": "2021-12-17T20:24:41.511857",
   "version": "2.3.3"
  }
 },
 "nbformat": 4,
 "nbformat_minor": 5
}

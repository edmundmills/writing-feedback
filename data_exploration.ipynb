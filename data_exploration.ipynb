{
 "cells": [
  {
   "cell_type": "code",
   "execution_count": 2,
   "metadata": {},
   "outputs": [],
   "source": [
    "from collections import Counter\n",
    "\n",
    "import matplotlib.pyplot as plt\n",
    "import pandas as pd\n",
    "\n",
    "from dataset import ArgumentDataset\n",
    "from utils.text import to_sentences"
   ]
  },
  {
   "cell_type": "code",
   "execution_count": 3,
   "metadata": {},
   "outputs": [],
   "source": [
    "dataset = ArgumentDataset()"
   ]
  },
  {
   "cell_type": "code",
   "execution_count": null,
   "metadata": {},
   "outputs": [],
   "source": [
    "# sentence histogram\n",
    "sentences_counter = Counter()\n",
    "\n",
    "for essay_path in dataset.essay_paths():\n",
    "    with open(essay_path) as f:\n",
    "        essay_text = f.read()\n",
    "        sentences_counter[len(to_sentences(essay_text))] += 1\n",
    "\n",
    "xs = []\n",
    "ys = []\n",
    "for x, y in iter(sentences_counter.items()):\n",
    "    xs.append(x)\n",
    "    ys.append(y)\n",
    "fig, ax = plt.subplots()\n",
    "ax.plot(xs, ys, 'k+')\n",
    "plt.show()"
   ]
  },
  {
   "cell_type": "code",
   "execution_count": 5,
   "metadata": {},
   "outputs": [
    {
     "data": {
      "image/png": "[encoded data removed]",
      "text/plain": [
       "<Figure size 432x288 with 1 Axes>"
      ]
     },
     "metadata": {
      "needs_background": "light"
     },
     "output_type": "display_data"
    }
   ],
   "source": [
    "# argument histogram\n",
    "args_counter = Counter()\n",
    "\n",
    "for essay in dataset.essays():\n",
    "    args_counter[len(essay)] += 1\n",
    "\n",
    "xs = []\n",
    "ys = []\n",
    "for x, y in iter(args_counter.items()):\n",
    "    xs.append(x)\n",
    "    ys.append(y)\n",
    "fig, ax = plt.subplots()\n",
    "ax.plot(xs, ys, 'k+')\n",
    "plt.show()"
   ]
  }
 ],
 "metadata": {
  "interpreter": {
   "hash": "60383925d7a54d26da6404705fd7a54a4efee7fc7031c5119ad1334544700a3c"
  },
  "kernelspec": {
   "display_name": "Python 3.8.5 64-bit ('shims': pyenv)",
   "language": "python",
   "name": "python3"
  },
  "language_info": {
   "codemirror_mode": {
    "name": "ipython",
    "version": 3
   },
   "file_extension": ".py",
   "mimetype": "text/x-python",
   "name": "python",
   "nbconvert_exporter": "python",
   "pygments_lexer": "ipython3",
   "version": "3.8.5"
  },
  "orig_nbformat": 4
 },
 "nbformat": 4,
 "nbformat_minor": 2
}

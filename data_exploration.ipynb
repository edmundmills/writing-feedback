{
 "cells": [
  {
   "cell_type": "code",
   "execution_count": 1,
   "metadata": {},
   "outputs": [],
   "source": [
    "from collections import Counter\n",
    "\n",
    "import matplotlib.pyplot as plt\n",
    "import pandas as pd\n",
    "\n",
    "from core.dataset import EssayDataset\n",
    "from utils.text import to_sentences"
   ]
  },
  {
   "cell_type": "code",
   "execution_count": 2,
   "metadata": {},
   "outputs": [
    {
     "name": "stdout",
     "output_type": "stream",
     "text": [
      "Loading essays...\n",
      "Collating essays and labels...\n"
     ]
    },
    {
     "name": "stderr",
     "output_type": "stream",
     "text": [
      "100%|██████████| 15594/15594 [04:35<00:00, 56.55it/s]"
     ]
    },
    {
     "name": "stdout",
     "output_type": "stream",
     "text": [
      "Essay dataset created with 15594 essays.\n"
     ]
    },
    {
     "name": "stderr",
     "output_type": "stream",
     "text": [
      "\n"
     ]
    }
   ],
   "source": [
    "dataset = EssayDataset()"
   ]
  },
  {
   "cell_type": "code",
   "execution_count": 2,
   "metadata": {},
   "outputs": [
    {
     "name": "stdout",
     "output_type": "stream",
     "text": [
      "Loading data for 700 essays\n",
      "Collating essays and labels...\n"
     ]
    },
    {
     "name": "stderr",
     "output_type": "stream",
     "text": [
      "100%|██████████| 700/700 [00:02<00:00, 285.39it/s]\n"
     ]
    },
    {
     "name": "stdout",
     "output_type": "stream",
     "text": [
      "Essay dataset created with 700 essays.\n",
      "Polarity Dataset Created with 8499 pairs.\n",
      "Counter({1.0: 3644, 0.0: 2757, -1.0: 2098})\n",
      "They say the reason they do this is because they feel as if they are safe and wont crash,\n",
      "but some of them have admitted that they have been involved in an accident. \n",
      "-1\n",
      "---\n",
      "Some people feel as if sending a simple text won't do any harm so it's fine to respond or if someone is calling they should pick it up rather than let it ring. \n",
      "Using your phone while driving is a very dangerous thing to do because it can cause a lot of damage and can make some people pay lots of money.\n",
      "-1\n",
      "---\n",
      "There are many different consequences\n",
      "some can be $20-$500 but if you kill or harm others than if can be jail or prison time all the way up to life in prison one thing that can happen is you can kill yourself doing this or kill a kid who could grow up to be the president or the person to find the cure for cancer or just a very important person. Using you phone might not get you killed but it can get others killed. \n",
      "1\n",
      "---\n",
      "It's very dangerous and I think people should not be able to do it to keep them safe and the other people around them safe as well.\n",
      "In most cases people from the age 18-33 admitted to using the phone while driving about 59% of them.\n",
      "1\n",
      "---\n",
      "It's very dangerous and I think people should not be able to do it to keep them safe and the other people around them safe as well.\n",
      "There are many different consequences\n",
      "1\n",
      "---\n",
      "It's very dangerous and I think people should not be able to do it to keep them safe and the other people around them safe as well.\n",
      "They say the reason they do this is because they feel as if they are safe and wont crash,\n",
      "-1\n",
      "---\n",
      "It's very dangerous and I think people should not be able to do it to keep them safe and the other people around them safe as well.\n",
      "Some people feel as if sending a simple text won't do any harm so it's fine to respond or if someone is calling they should pick it up rather than let it ring. \n",
      "-1\n",
      "---\n",
      "In conclusion using your phone for any reason isn't worth it because not only are you in danger but others as well. If I were you I wouldn't use your phone because even if you don't get caught that means you'll do it again and the next time you do than that could be the time you get hurt or killed. What I think new could do to keep this from happening is putting cameras around the roads to see who uses their phone and write them a ticket and or fine them.\n",
      "They say the reason they do this is because they feel as if they are safe and wont crash,\n",
      "-1\n",
      "---\n",
      "In conclusion using your phone for any reason isn't worth it because not only are you in danger but others as well. If I were you I wouldn't use your phone because even if you don't get caught that means you'll do it again and the next time you do than that could be the time you get hurt or killed. What I think new could do to keep this from happening is putting cameras around the roads to see who uses their phone and write them a ticket and or fine them.\n",
      "Some people feel as if sending a simple text won't do any harm so it's fine to respond or if someone is calling they should pick it up rather than let it ring. \n",
      "-1\n",
      "---\n",
      "Many things can happen when being distracted from driving such as a little crash as a bump to a car or can be as serious as hitting someone or injuring yourself it can also lead to your or even someone else death\n",
      "In conclusion using your phone for any reason isn't worth it because not only are you in danger but others as well. If I were you I wouldn't use your phone because even if you don't get caught that means you'll do it again and the next time you do than that could be the time you get hurt or killed. What I think new could do to keep this from happening is putting cameras around the roads to see who uses their phone and write them a ticket and or fine them.\n",
      "0\n",
      "---\n",
      "Some people don't realize how bad it is to do these things because the people who do it are the ones who have been involved in an accident. \n",
      "In conclusion using your phone for any reason isn't worth it because not only are you in danger but others as well. If I were you I wouldn't use your phone because even if you don't get caught that means you'll do it again and the next time you do than that could be the time you get hurt or killed. What I think new could do to keep this from happening is putting cameras around the roads to see who uses their phone and write them a ticket and or fine them.\n",
      "0\n",
      "---\n",
      "some can be $20-$500 but if you kill or harm others than if can be jail or prison time all the way up to life in prison one thing that can happen is you can kill yourself doing this or kill a kid who could grow up to be the president or the person to find the cure for cancer or just a very important person. Using you phone might not get you killed but it can get others killed. \n",
      "In conclusion using your phone for any reason isn't worth it because not only are you in danger but others as well. If I were you I wouldn't use your phone because even if you don't get caught that means you'll do it again and the next time you do than that could be the time you get hurt or killed. What I think new could do to keep this from happening is putting cameras around the roads to see who uses their phone and write them a ticket and or fine them.\n",
      "0\n",
      "---\n",
      "In most cases people from the age 18-33 admitted to using the phone while driving about 59% of them.\n",
      "They say the reason they do this is because they feel as if they are safe and wont crash,\n",
      "-1\n",
      "---\n",
      "There are many different consequences\n",
      "They say the reason they do this is because they feel as if they are safe and wont crash,\n",
      "-1\n",
      "---\n",
      "They say the reason they do this is because they feel as if they are safe and wont crash,\n",
      "In most cases people from the age 18-33 admitted to using the phone while driving about 59% of them.\n",
      "-1\n",
      "---\n",
      "They say the reason they do this is because they feel as if they are safe and wont crash,\n",
      "There are many different consequences\n",
      "-1\n",
      "---\n",
      "Many things can happen when being distracted from driving such as a little crash as a bump to a car or can be as serious as hitting someone or injuring yourself it can also lead to your or even someone else death\n",
      "Phones and driving is where you text, call, or use your phone in any way.\n",
      "0\n",
      "---\n",
      "Some people don't realize how bad it is to do these things because the people who do it are the ones who have been involved in an accident. \n",
      "Phones and driving is where you text, call, or use your phone in any way.\n",
      "0\n",
      "---\n",
      "some can be $20-$500 but if you kill or harm others than if can be jail or prison time all the way up to life in prison one thing that can happen is you can kill yourself doing this or kill a kid who could grow up to be the president or the person to find the cure for cancer or just a very important person. Using you phone might not get you killed but it can get others killed. \n",
      "Phones and driving is where you text, call, or use your phone in any way.\n",
      "0\n",
      "---\n",
      "In most cases people from the age 18-33 admitted to using the phone while driving about 59% of them.\n",
      "Some people feel as if sending a simple text won't do any harm so it's fine to respond or if someone is calling they should pick it up rather than let it ring. \n",
      "-1\n",
      "---\n",
      "There are many different consequences\n",
      "Some people feel as if sending a simple text won't do any harm so it's fine to respond or if someone is calling they should pick it up rather than let it ring. \n",
      "-1\n",
      "---\n",
      "Some people feel as if sending a simple text won't do any harm so it's fine to respond or if someone is calling they should pick it up rather than let it ring. \n",
      "In most cases people from the age 18-33 admitted to using the phone while driving about 59% of them.\n",
      "-1\n",
      "---\n",
      "Some people feel as if sending a simple text won't do any harm so it's fine to respond or if someone is calling they should pick it up rather than let it ring. \n",
      "There are many different consequences\n",
      "-1\n",
      "---\n",
      "Many things can happen when being distracted from driving such as a little crash as a bump to a car or can be as serious as hitting someone or injuring yourself it can also lead to your or even someone else death\n",
      "Phones and driving is where you text, call, or use your phone in any way.\n",
      "0\n",
      "---\n",
      "Some people don't realize how bad it is to do these things because the people who do it are the ones who have been involved in an accident. \n",
      "Phones and driving is where you text, call, or use your phone in any way.\n",
      "0\n",
      "---\n",
      "some can be $20-$500 but if you kill or harm others than if can be jail or prison time all the way up to life in prison one thing that can happen is you can kill yourself doing this or kill a kid who could grow up to be the president or the person to find the cure for cancer or just a very important person. Using you phone might not get you killed but it can get others killed. \n",
      "Phones and driving is where you text, call, or use your phone in any way.\n",
      "0\n",
      "---\n"
     ]
    }
   ],
   "source": [
    "label_counter = Counter()\n",
    "\n",
    "small_dataset = EssayDataset(n_essays=700)\n",
    "polarity_dataset = small_dataset.make_polarity_dataset()\n",
    "for pair, label in polarity_dataset:\n",
    "    label_counter[label.item()] += 1\n",
    "print(label_counter)\n",
    "\n",
    "essay = small_dataset[600]\n",
    "for pair, label in zip(*essay.polarity_pairs()):\n",
    "    print(pair[0])\n",
    "    print(pair[1])\n",
    "    print(label)\n",
    "    print('---')\n"
   ]
  },
  {
   "cell_type": "code",
   "execution_count": 10,
   "metadata": {},
   "outputs": [
    {
     "data": {
      "image/png": "[encoded data removed]",
      "text/plain": [
       "<Figure size 432x288 with 1 Axes>"
      ]
     },
     "metadata": {
      "needs_background": "light"
     },
     "output_type": "display_data"
    }
   ],
   "source": [
    "# words in argument histogram\n",
    "words_counter = Counter()\n",
    "\n",
    "for idx, essay in enumerate(dataset):\n",
    "    for _, row in essay.labels.iterrows():\n",
    "        n_words = len(row.loc['predictionstring'].split())\n",
    "        words_counter[n_words] += 1\n",
    "    if idx > 20000:\n",
    "        break\n",
    "\n",
    "xs = []\n",
    "ys = []\n",
    "for x, y in iter(words_counter.items()):\n",
    "    xs.append(x)\n",
    "    ys.append(y)\n",
    "fig, ax = plt.subplots()\n",
    "ax.plot(xs, ys, 'k+')\n",
    "plt.show()"
   ]
  },
  {
   "cell_type": "code",
   "execution_count": null,
   "metadata": {},
   "outputs": [],
   "source": [
    "# sentence histogram\n",
    "sentences_counter = Counter()\n",
    "\n",
    "for essay in dataset:\n",
    "    with open(essay.path) as f:\n",
    "        essay_text = f.read()\n",
    "        sentences_counter[len(to_sentences(essay_text))] += 1\n",
    "\n",
    "xs = []\n",
    "ys = []\n",
    "for x, y in iter(sentences_counter.items()):\n",
    "    xs.append(x)\n",
    "    ys.append(y)\n",
    "fig, ax = plt.subplots()\n",
    "ax.plot(xs, ys, 'k+')\n",
    "plt.show()"
   ]
  },
  {
   "cell_type": "code",
   "execution_count": 5,
   "metadata": {},
   "outputs": [
    {
     "data": {
      "image/png": "[encoded data removed]",
      "text/plain": [
       "<Figure size 432x288 with 1 Axes>"
      ]
     },
     "metadata": {
      "needs_background": "light"
     },
     "output_type": "display_data"
    }
   ],
   "source": [
    "# argument histogram\n",
    "args_counter = Counter()\n",
    "\n",
    "for essay in dataset:\n",
    "    args_counter[len(essay.labels)] += 1\n",
    "\n",
    "xs = []\n",
    "ys = []\n",
    "for x, y in iter(args_counter.items()):\n",
    "    xs.append(x)\n",
    "    ys.append(y)\n",
    "fig, ax = plt.subplots()\n",
    "ax.plot(xs, ys, 'k+')\n",
    "plt.show()"
   ]
  }
 ],
 "metadata": {
  "interpreter": {
   "hash": "60383925d7a54d26da6404705fd7a54a4efee7fc7031c5119ad1334544700a3c"
  },
  "kernelspec": {
   "display_name": "Python 3.8.5 64-bit ('shims': pyenv)",
   "language": "python",
   "name": "python3"
  },
  "language_info": {
   "codemirror_mode": {
    "name": "ipython",
    "version": 3
   },
   "file_extension": ".py",
   "mimetype": "text/x-python",
   "name": "python",
   "nbconvert_exporter": "python",
   "pygments_lexer": "ipython3",
   "version": "3.8.5"
  },
  "orig_nbformat": 4
 },
 "nbformat": 4,
 "nbformat_minor": 2
}
